{
  "nbformat": 4,
  "nbformat_minor": 0,
  "metadata": {
    "colab": {
      "provenance": []
    },
    "kernelspec": {
      "name": "python3",
      "display_name": "Python 3"
    },
    "language_info": {
      "name": "python"
    }
  },
  "cells": [
    {
      "cell_type": "code",
      "execution_count": 1,
      "metadata": {
        "id": "o2Px3g4Tu7Hr"
      },
      "outputs": [],
      "source": [
        "import cv2\n",
        "import numpy as np\n",
        "import matplotlib.pyplot as plt"
      ]
    },
    {
      "cell_type": "markdown",
      "source": [],
      "metadata": {
        "id": "QetX5y5r21HB"
      }
    },
    {
      "cell_type": "markdown",
      "source": [
        "## Utils"
      ],
      "metadata": {
        "id": "QSW16PedvsUz"
      }
    },
    {
      "cell_type": "code",
      "source": [
        "def convert_to_gray(img):\n",
        "  \"\"\"\n",
        "  This function converts image to gray scale\n",
        "  \"\"\"\n",
        "  gray_image= cv2.Canny(img, cv2.COLOR_BGR2GRAY)\n",
        "  return gray_image\n",
        "\n",
        "def gray_to_cannydge(img, uprThr, lwrThr):\n",
        "  \"\"\"\n",
        "  This function extractor image to canny edge\n",
        "  \"\"\"\n",
        "  edges = cv2.Canny(img, uprThr, lwrThr)\n",
        "  return edges"
      ],
      "metadata": {
        "id": "Bo0OWCejvMHc"
      },
      "execution_count": null,
      "outputs": []
    },
    {
      "cell_type": "markdown",
      "source": [
        "##feature extractor"
      ],
      "metadata": {
        "id": "UY8e8u7-wjdh"
      }
    },
    {
      "cell_type": "code",
      "source": [
        "def sift_features(img):\n",
        "  \"\"\"\n",
        "  This function extractor SIFT features and its locations\n",
        "  \"\"\"\n",
        "  sift = cv2.SIFT_create()\n",
        "  keyPoints, descriptors = sift.detectAndCompute(img, None)\n",
        "  return keyPoints, descriptors\n",
        "\n",
        "def orb_features(img):\n",
        "  \"\"\"\n",
        "  This function extractor orb features and its locations\n",
        "  \"\"\"\n",
        "  orb = cv2.ORB_create()\n",
        "  keyPoints, descriptors = orb.detectAndCompute(img, None)\n",
        "  return keyPoints, descriptors\n"
      ],
      "metadata": {
        "id": "4t-WxUeivq1N"
      },
      "execution_count": null,
      "outputs": []
    },
    {
      "cell_type": "markdown",
      "source": [
        "##Unit Test"
      ],
      "metadata": {
        "id": "dfQuucOjx0hD"
      }
    },
    {
      "cell_type": "code",
      "source": [
        "from os import listdir\n",
        "from os.path import isfile, join\n",
        "import cv2\n",
        "import numpy as np\n",
        "import matplotlib.pyplot as plt\n",
        "\n",
        "def feature_extractor_unittest(imgPath):\n",
        "  \"\"\"\n",
        "  This is a unit test function for feature extractor\n",
        "  \"\"\"\n",
        "  imgFiles = [f for f in listdir(imgPath) if isfile(join(imgPath, f))]\n",
        "\n",
        "  for f in imgFiles:\n",
        "    img = cv2.imread(imgPath+f)\n",
        "    grayImg = convert_to_gray(img)\n",
        "    (_,features1) = sift_features(grayImg)\n",
        "    (_,features2) = orb_features(grayImg)\n",
        "    has_nan = np.isnan(features1).any()\n",
        "    has_nan = np.isnan(features2).any()\n",
        "    if has_nan:\n",
        "      raise ValueError(\"Featues1 has nan!\")\n",
        "    if has_nan:\n",
        "      raise ValueError(\"Features2 has nan!\")\n",
        "\n",
        "\n"
      ],
      "metadata": {
        "id": "S13yNZ87x9lt"
      },
      "execution_count": null,
      "outputs": []
    }
  ]
}